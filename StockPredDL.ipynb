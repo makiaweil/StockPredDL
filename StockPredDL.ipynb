{
 "cells": [
  {
   "cell_type": "code",
   "execution_count": 1,
   "metadata": {
    "collapsed": false
   },
   "outputs": [],
   "source": [
    "import datetime as dt\n",
    "import numpy as np\n",
    "import pandas as pd\n",
    "import matplotlib.pyplot as plt\n",
    "from mlp import test_mlp\n",
    "\n",
    "\n",
    "#from pybrain.datasets.supervised import SupervisedDataSet\n",
    "#from pybrain.tools.shortcuts import buildNetwork\n",
    "#from pybrain.supervised.trainers import BackpropTrainer\n",
    "%matplotlib inline"
   ]
  },
  {
   "cell_type": "markdown",
   "metadata": {},
   "source": [
    "# Loading the data"
   ]
  },
  {
   "cell_type": "code",
   "execution_count": 2,
   "metadata": {
    "collapsed": false
   },
   "outputs": [
    {
     "data": {
      "text/html": [
       "<div>\n",
       "<table border=\"1\" class=\"dataframe\">\n",
       "  <thead>\n",
       "    <tr style=\"text-align: right;\">\n",
       "      <th></th>\n",
       "      <th>Date</th>\n",
       "      <th>Prices</th>\n",
       "    </tr>\n",
       "  </thead>\n",
       "  <tbody>\n",
       "    <tr>\n",
       "      <th>0</th>\n",
       "      <td>1990-01-08 15:33:00</td>\n",
       "      <td>411.250000</td>\n",
       "    </tr>\n",
       "    <tr>\n",
       "      <th>1</th>\n",
       "      <td>1990-01-08 15:34:00</td>\n",
       "      <td>411.750000</td>\n",
       "    </tr>\n",
       "    <tr>\n",
       "      <th>2</th>\n",
       "      <td>1990-01-08 15:35:00</td>\n",
       "      <td>411.500000</td>\n",
       "    </tr>\n",
       "    <tr>\n",
       "      <th>3</th>\n",
       "      <td>1990-01-08 15:36:00</td>\n",
       "      <td>411.500000</td>\n",
       "    </tr>\n",
       "    <tr>\n",
       "      <th>4</th>\n",
       "      <td>1990-01-08 15:37:00</td>\n",
       "      <td>411.250000</td>\n",
       "    </tr>\n",
       "    <tr>\n",
       "      <th>5</th>\n",
       "      <td>1990-01-08 15:38:00</td>\n",
       "      <td>411.000000</td>\n",
       "    </tr>\n",
       "    <tr>\n",
       "      <th>6</th>\n",
       "      <td>1990-01-08 15:39:00</td>\n",
       "      <td>411.250000</td>\n",
       "    </tr>\n",
       "    <tr>\n",
       "      <th>7</th>\n",
       "      <td>1990-01-08 15:40:00</td>\n",
       "      <td>411.000000</td>\n",
       "    </tr>\n",
       "    <tr>\n",
       "      <th>8</th>\n",
       "      <td>1990-01-08 15:41:00</td>\n",
       "      <td>411.000000</td>\n",
       "    </tr>\n",
       "    <tr>\n",
       "      <th>9</th>\n",
       "      <td>1990-01-08 15:42:00</td>\n",
       "      <td>411.000000</td>\n",
       "    </tr>\n",
       "    <tr>\n",
       "      <th>10</th>\n",
       "      <td>1990-01-08 15:43:00</td>\n",
       "      <td>411.250000</td>\n",
       "    </tr>\n",
       "    <tr>\n",
       "      <th>11</th>\n",
       "      <td>1990-01-08 15:44:00</td>\n",
       "      <td>411.250000</td>\n",
       "    </tr>\n",
       "    <tr>\n",
       "      <th>12</th>\n",
       "      <td>1990-01-08 15:47:00</td>\n",
       "      <td>411.250000</td>\n",
       "    </tr>\n",
       "    <tr>\n",
       "      <th>13</th>\n",
       "      <td>1990-01-08 15:48:00</td>\n",
       "      <td>411.500000</td>\n",
       "    </tr>\n",
       "    <tr>\n",
       "      <th>14</th>\n",
       "      <td>1990-01-08 15:49:00</td>\n",
       "      <td>411.250000</td>\n",
       "    </tr>\n",
       "    <tr>\n",
       "      <th>15</th>\n",
       "      <td>1990-01-08 15:50:00</td>\n",
       "      <td>411.750000</td>\n",
       "    </tr>\n",
       "    <tr>\n",
       "      <th>16</th>\n",
       "      <td>1990-01-08 15:51:00</td>\n",
       "      <td>412.000000</td>\n",
       "    </tr>\n",
       "    <tr>\n",
       "      <th>17</th>\n",
       "      <td>1990-01-08 15:52:00</td>\n",
       "      <td>411.750000</td>\n",
       "    </tr>\n",
       "    <tr>\n",
       "      <th>18</th>\n",
       "      <td>1990-01-08 15:53:00</td>\n",
       "      <td>411.500000</td>\n",
       "    </tr>\n",
       "    <tr>\n",
       "      <th>19</th>\n",
       "      <td>1990-01-08 15:54:00</td>\n",
       "      <td>411.500000</td>\n",
       "    </tr>\n",
       "    <tr>\n",
       "      <th>20</th>\n",
       "      <td>1990-01-08 15:55:00</td>\n",
       "      <td>411.750000</td>\n",
       "    </tr>\n",
       "    <tr>\n",
       "      <th>21</th>\n",
       "      <td>1990-01-08 15:56:00</td>\n",
       "      <td>412.000000</td>\n",
       "    </tr>\n",
       "    <tr>\n",
       "      <th>22</th>\n",
       "      <td>1990-01-08 15:58:00</td>\n",
       "      <td>412.000000</td>\n",
       "    </tr>\n",
       "    <tr>\n",
       "      <th>23</th>\n",
       "      <td>1990-01-08 15:59:00</td>\n",
       "      <td>412.000000</td>\n",
       "    </tr>\n",
       "    <tr>\n",
       "      <th>24</th>\n",
       "      <td>1990-01-08 16:00:00</td>\n",
       "      <td>412.000000</td>\n",
       "    </tr>\n",
       "    <tr>\n",
       "      <th>25</th>\n",
       "      <td>1990-01-08 16:01:00</td>\n",
       "      <td>412.000000</td>\n",
       "    </tr>\n",
       "    <tr>\n",
       "      <th>26</th>\n",
       "      <td>1990-01-08 16:02:00</td>\n",
       "      <td>411.750000</td>\n",
       "    </tr>\n",
       "    <tr>\n",
       "      <th>27</th>\n",
       "      <td>1990-01-08 16:03:00</td>\n",
       "      <td>411.750000</td>\n",
       "    </tr>\n",
       "    <tr>\n",
       "      <th>28</th>\n",
       "      <td>1990-01-08 16:06:00</td>\n",
       "      <td>411.500000</td>\n",
       "    </tr>\n",
       "    <tr>\n",
       "      <th>29</th>\n",
       "      <td>1990-01-08 16:07:00</td>\n",
       "      <td>411.750000</td>\n",
       "    </tr>\n",
       "    <tr>\n",
       "      <th>...</th>\n",
       "      <td>...</td>\n",
       "      <td>...</td>\n",
       "    </tr>\n",
       "    <tr>\n",
       "      <th>1587301</th>\n",
       "      <td>2012-12-31 19:30:00</td>\n",
       "      <td>56.906570</td>\n",
       "    </tr>\n",
       "    <tr>\n",
       "      <th>1587302</th>\n",
       "      <td>2012-12-31 19:31:00</td>\n",
       "      <td>56.906570</td>\n",
       "    </tr>\n",
       "    <tr>\n",
       "      <th>1587303</th>\n",
       "      <td>2012-12-31 19:32:00</td>\n",
       "      <td>56.906570</td>\n",
       "    </tr>\n",
       "    <tr>\n",
       "      <th>1587304</th>\n",
       "      <td>2012-12-31 19:33:00</td>\n",
       "      <td>56.924880</td>\n",
       "    </tr>\n",
       "    <tr>\n",
       "      <th>1587305</th>\n",
       "      <td>2012-12-31 19:34:00</td>\n",
       "      <td>56.943190</td>\n",
       "    </tr>\n",
       "    <tr>\n",
       "      <th>1587306</th>\n",
       "      <td>2012-12-31 19:35:00</td>\n",
       "      <td>56.943190</td>\n",
       "    </tr>\n",
       "    <tr>\n",
       "      <th>1587307</th>\n",
       "      <td>2012-12-31 19:36:00</td>\n",
       "      <td>56.924880</td>\n",
       "    </tr>\n",
       "    <tr>\n",
       "      <th>1587308</th>\n",
       "      <td>2012-12-31 19:37:00</td>\n",
       "      <td>56.906570</td>\n",
       "    </tr>\n",
       "    <tr>\n",
       "      <th>1587309</th>\n",
       "      <td>2012-12-31 19:38:00</td>\n",
       "      <td>56.924880</td>\n",
       "    </tr>\n",
       "    <tr>\n",
       "      <th>1587310</th>\n",
       "      <td>2012-12-31 19:39:00</td>\n",
       "      <td>56.924880</td>\n",
       "    </tr>\n",
       "    <tr>\n",
       "      <th>1587311</th>\n",
       "      <td>2012-12-31 19:40:00</td>\n",
       "      <td>56.943190</td>\n",
       "    </tr>\n",
       "    <tr>\n",
       "      <th>1587312</th>\n",
       "      <td>2012-12-31 19:41:00</td>\n",
       "      <td>56.961499</td>\n",
       "    </tr>\n",
       "    <tr>\n",
       "      <th>1587313</th>\n",
       "      <td>2012-12-31 19:42:00</td>\n",
       "      <td>56.961499</td>\n",
       "    </tr>\n",
       "    <tr>\n",
       "      <th>1587314</th>\n",
       "      <td>2012-12-31 19:43:00</td>\n",
       "      <td>56.979809</td>\n",
       "    </tr>\n",
       "    <tr>\n",
       "      <th>1587315</th>\n",
       "      <td>2012-12-31 19:44:00</td>\n",
       "      <td>56.979809</td>\n",
       "    </tr>\n",
       "    <tr>\n",
       "      <th>1587316</th>\n",
       "      <td>2012-12-31 19:45:00</td>\n",
       "      <td>57.016429</td>\n",
       "    </tr>\n",
       "    <tr>\n",
       "      <th>1587317</th>\n",
       "      <td>2012-12-31 19:46:00</td>\n",
       "      <td>56.998119</td>\n",
       "    </tr>\n",
       "    <tr>\n",
       "      <th>1587318</th>\n",
       "      <td>2012-12-31 19:47:00</td>\n",
       "      <td>56.961499</td>\n",
       "    </tr>\n",
       "    <tr>\n",
       "      <th>1587319</th>\n",
       "      <td>2012-12-31 19:48:00</td>\n",
       "      <td>56.924880</td>\n",
       "    </tr>\n",
       "    <tr>\n",
       "      <th>1587320</th>\n",
       "      <td>2012-12-31 19:49:00</td>\n",
       "      <td>56.998119</td>\n",
       "    </tr>\n",
       "    <tr>\n",
       "      <th>1587321</th>\n",
       "      <td>2012-12-31 19:50:00</td>\n",
       "      <td>56.998119</td>\n",
       "    </tr>\n",
       "    <tr>\n",
       "      <th>1587322</th>\n",
       "      <td>2012-12-31 19:51:00</td>\n",
       "      <td>56.979809</td>\n",
       "    </tr>\n",
       "    <tr>\n",
       "      <th>1587323</th>\n",
       "      <td>2012-12-31 19:52:00</td>\n",
       "      <td>56.979809</td>\n",
       "    </tr>\n",
       "    <tr>\n",
       "      <th>1587324</th>\n",
       "      <td>2012-12-31 19:53:00</td>\n",
       "      <td>56.943190</td>\n",
       "    </tr>\n",
       "    <tr>\n",
       "      <th>1587325</th>\n",
       "      <td>2012-12-31 19:54:00</td>\n",
       "      <td>56.943190</td>\n",
       "    </tr>\n",
       "    <tr>\n",
       "      <th>1587326</th>\n",
       "      <td>2012-12-31 19:55:00</td>\n",
       "      <td>56.943190</td>\n",
       "    </tr>\n",
       "    <tr>\n",
       "      <th>1587327</th>\n",
       "      <td>2012-12-31 19:56:00</td>\n",
       "      <td>56.869951</td>\n",
       "    </tr>\n",
       "    <tr>\n",
       "      <th>1587328</th>\n",
       "      <td>2012-12-31 19:57:00</td>\n",
       "      <td>56.833332</td>\n",
       "    </tr>\n",
       "    <tr>\n",
       "      <th>1587329</th>\n",
       "      <td>2012-12-31 19:58:00</td>\n",
       "      <td>56.815022</td>\n",
       "    </tr>\n",
       "    <tr>\n",
       "      <th>1587330</th>\n",
       "      <td>2012-12-31 19:59:00</td>\n",
       "      <td>57.053048</td>\n",
       "    </tr>\n",
       "  </tbody>\n",
       "</table>\n",
       "<p>1587331 rows × 2 columns</p>\n",
       "</div>"
      ],
      "text/plain": [
       "                        Date      Prices\n",
       "0        1990-01-08 15:33:00  411.250000\n",
       "1        1990-01-08 15:34:00  411.750000\n",
       "2        1990-01-08 15:35:00  411.500000\n",
       "3        1990-01-08 15:36:00  411.500000\n",
       "4        1990-01-08 15:37:00  411.250000\n",
       "5        1990-01-08 15:38:00  411.000000\n",
       "6        1990-01-08 15:39:00  411.250000\n",
       "7        1990-01-08 15:40:00  411.000000\n",
       "8        1990-01-08 15:41:00  411.000000\n",
       "9        1990-01-08 15:42:00  411.000000\n",
       "10       1990-01-08 15:43:00  411.250000\n",
       "11       1990-01-08 15:44:00  411.250000\n",
       "12       1990-01-08 15:47:00  411.250000\n",
       "13       1990-01-08 15:48:00  411.500000\n",
       "14       1990-01-08 15:49:00  411.250000\n",
       "15       1990-01-08 15:50:00  411.750000\n",
       "16       1990-01-08 15:51:00  412.000000\n",
       "17       1990-01-08 15:52:00  411.750000\n",
       "18       1990-01-08 15:53:00  411.500000\n",
       "19       1990-01-08 15:54:00  411.500000\n",
       "20       1990-01-08 15:55:00  411.750000\n",
       "21       1990-01-08 15:56:00  412.000000\n",
       "22       1990-01-08 15:58:00  412.000000\n",
       "23       1990-01-08 15:59:00  412.000000\n",
       "24       1990-01-08 16:00:00  412.000000\n",
       "25       1990-01-08 16:01:00  412.000000\n",
       "26       1990-01-08 16:02:00  411.750000\n",
       "27       1990-01-08 16:03:00  411.750000\n",
       "28       1990-01-08 16:06:00  411.500000\n",
       "29       1990-01-08 16:07:00  411.750000\n",
       "...                      ...         ...\n",
       "1587301  2012-12-31 19:30:00   56.906570\n",
       "1587302  2012-12-31 19:31:00   56.906570\n",
       "1587303  2012-12-31 19:32:00   56.906570\n",
       "1587304  2012-12-31 19:33:00   56.924880\n",
       "1587305  2012-12-31 19:34:00   56.943190\n",
       "1587306  2012-12-31 19:35:00   56.943190\n",
       "1587307  2012-12-31 19:36:00   56.924880\n",
       "1587308  2012-12-31 19:37:00   56.906570\n",
       "1587309  2012-12-31 19:38:00   56.924880\n",
       "1587310  2012-12-31 19:39:00   56.924880\n",
       "1587311  2012-12-31 19:40:00   56.943190\n",
       "1587312  2012-12-31 19:41:00   56.961499\n",
       "1587313  2012-12-31 19:42:00   56.961499\n",
       "1587314  2012-12-31 19:43:00   56.979809\n",
       "1587315  2012-12-31 19:44:00   56.979809\n",
       "1587316  2012-12-31 19:45:00   57.016429\n",
       "1587317  2012-12-31 19:46:00   56.998119\n",
       "1587318  2012-12-31 19:47:00   56.961499\n",
       "1587319  2012-12-31 19:48:00   56.924880\n",
       "1587320  2012-12-31 19:49:00   56.998119\n",
       "1587321  2012-12-31 19:50:00   56.998119\n",
       "1587322  2012-12-31 19:51:00   56.979809\n",
       "1587323  2012-12-31 19:52:00   56.979809\n",
       "1587324  2012-12-31 19:53:00   56.943190\n",
       "1587325  2012-12-31 19:54:00   56.943190\n",
       "1587326  2012-12-31 19:55:00   56.943190\n",
       "1587327  2012-12-31 19:56:00   56.869951\n",
       "1587328  2012-12-31 19:57:00   56.833332\n",
       "1587329  2012-12-31 19:58:00   56.815022\n",
       "1587330  2012-12-31 19:59:00   57.053048\n",
       "\n",
       "[1587331 rows x 2 columns]"
      ]
     },
     "execution_count": 2,
     "metadata": {},
     "output_type": "execute_result"
    }
   ],
   "source": [
    "data = pd.read_csv('data.1_min.csv',names=['Date','Prices'],header=0)\n",
    "data"
   ]
  },
  {
   "cell_type": "markdown",
   "metadata": {},
   "source": [
    "## Plotting the data"
   ]
  },
  {
   "cell_type": "code",
   "execution_count": 3,
   "metadata": {
    "collapsed": false
   },
   "outputs": [
    {
     "data": {
      "text/plain": [
       "<matplotlib.text.Text at 0x1018b4470>"
      ]
     },
     "execution_count": 3,
     "metadata": {},
     "output_type": "execute_result"
    },
    {
     "data": {
      "image/png": "[encoded data removed]",
      "text/plain": [
       "<matplotlib.figure.Figure at 0x10e036588>"
      ]
     },
     "metadata": {},
     "output_type": "display_data"
    }
   ],
   "source": [
    "plt.plot(data.Prices)\n",
    "plt.legend(['Prices'])\n",
    "plt.title('Clean Data')\n",
    "plt.xlabel('Time (min)')"
   ]
  },
  {
   "cell_type": "markdown",
   "metadata": {},
   "source": [
    "We remove the Dirac"
   ]
  },
  {
   "cell_type": "code",
   "execution_count": 4,
   "metadata": {
    "collapsed": false
   },
   "outputs": [],
   "source": [
    "data_clean=data[data.Prices<10000]"
   ]
  },
  {
   "cell_type": "code",
   "execution_count": 5,
   "metadata": {
    "collapsed": false
   },
   "outputs": [
    {
     "data": {
      "text/plain": [
       "<matplotlib.text.Text at 0x10e3d2f98>"
      ]
     },
     "execution_count": 5,
     "metadata": {},
     "output_type": "execute_result"
    },
    {
     "data": {
      "image/png": "[encoded data removed]",
      "text/plain": [
       "<matplotlib.figure.Figure at 0x10e385860>"
      ]
     },
     "metadata": {},
     "output_type": "display_data"
    }
   ],
   "source": [
    "plt.plot(data_clean.Prices)\n",
    "plt.legend(['Prices'])\n",
    "plt.title('Clean Data')\n",
    "plt.xlabel('Time (min)')"
   ]
  },
  {
   "cell_type": "markdown",
   "metadata": {},
   "source": [
    "# Artificial Neural Network  with Horizon 1\n",
    "\n",
    "To perform a Multi Layer Perceptron, we first need to normalize the data. We decide to do a Min/Max normalization. A Z-Score normalization can also be done."
   ]
  },
  {
   "cell_type": "code",
   "execution_count": 6,
   "metadata": {
    "collapsed": false
   },
   "outputs": [
    {
     "data": {
      "text/plain": [
       "<matplotlib.text.Text at 0x10e3df4a8>"
      ]
     },
     "execution_count": 6,
     "metadata": {},
     "output_type": "execute_result"
    },
    {
     "data": {
      "image/png": "[encoded data removed]",
      "text/plain": [
       "<matplotlib.figure.Figure at 0x10e3f6630>"
      ]
     },
     "metadata": {},
     "output_type": "display_data"
    }
   ],
   "source": [
    "dat=data_clean.Prices\n",
    "dmax=dat.max()\n",
    "dmin=dat.min()\n",
    "dmin\n",
    "#mean = dat.mean()\n",
    "#std=dat.std()\n",
    "dat=(dat-dmin)/(dmax-dmin)\n",
    "#dat=(dat-mean)/std\n",
    "plt.plot(dat)\n",
    "plt.legend(['Prices'])\n",
    "plt.title('Normalized Data')\n",
    "plt.xlabel('Time (min)')"
   ]
  },
  {
   "cell_type": "markdown",
   "metadata": {},
   "source": [
    "The data are normalized. Now we split the set into a training set, a validation set and a test set. The test set size is 20% of the dataset, the validation set size is $\\frac{20}{100}\\frac{80}{100}*100$% of the dataset size."
   ]
  },
  {
   "cell_type": "code",
   "execution_count": 7,
   "metadata": {
    "collapsed": false
   },
   "outputs": [],
   "source": [
    "\n",
    "n=len(dat)\n",
    "train=dat[:int(n*80/100)]\n",
    "#mean_train = train.mean()\n",
    "#std_train=train.std()\n",
    "#train=(train-mean_train)/std_train\n",
    "\n",
    "\n",
    "ntrain=train.shape[0]\n",
    "val=train[int(ntrain*(80/100)):]\n",
    "train=train[int(ntrain*(80/100)):]\n",
    "\n",
    "test=dat[int(n*80/100):]\n",
    "#mean_test = test.mean()\n",
    "#std_test=test.std()\n",
    "#test=(test-mean_test)/std_test"
   ]
  },
  {
   "cell_type": "markdown",
   "metadata": {},
   "source": [
    "The goal here is to predict the next minute prices by knowing the last $T-1$ values. To do this, we use a Multi Layer Perceptron with $T-1$ inputs, 1 hidden layer, 1 output. We are taking $T=60$. Ideally we should as a trainning set a moving window of size $T-1$ that moves every minute, but that will generate a heavy training set. Hence we decide to take as training examples disjoint vectors of size $T-1$."
   ]
  },
  {
   "cell_type": "code",
   "execution_count": 8,
   "metadata": {
    "collapsed": false
   },
   "outputs": [],
   "source": [
    "T=60\n",
    "ntrain=train.shape[0]\n",
    "l=ntrain//T\n",
    "X=train[:l*T].reshape(l,T)\n",
    "Xtrain=X[:,:T]\n",
    "Ytrain=X[:,-1]\n",
    "Ytrain=Ytrain.reshape(-1,1)\n",
    "\n",
    "\n",
    "\n",
    "nval=val.shape[0]\n",
    "lv=nval//T\n",
    "Xv=val[:lv*T].reshape(lv,T)\n",
    "Xval=Xv[:,:T]\n",
    "Yval=Xv[:,-1]\n",
    "Yval=Yval.reshape(-1,1)\n",
    "\n",
    "\n",
    "ntest=test.shape[0]\n",
    "lt=ntest//T\n",
    "Xt=test[:lt*T].reshape(lt,T)\n",
    "Xtest=Xt[:,:T]\n",
    "Ytest=Xt[:,-1]\n",
    "Ytest=Ytest.reshape(-1,1)\n"
   ]
  },
  {
   "cell_type": "markdown",
   "metadata": {},
   "source": [
    "First, I wanted to use the PyBrain library to do the Neural Network (I have never used this library before). The network would be, as mentionned above, a network with a single hidden layer with 100 hidden neurons. The hidden activation function used is sigmoid function. As we are doing a regression, the output function is the linear function.\n",
    "\n",
    "\n",
    "The problem is that running the training is too slow and to computationaly expensive for my CPU.  "
   ]
  },
  {
   "cell_type": "code",
   "execution_count": 46,
   "metadata": {
    "collapsed": false
   },
   "outputs": [
    {
     "ename": "KeyboardInterrupt",
     "evalue": "",
     "output_type": "error",
     "traceback": [
      "\u001b[0;31m---------------------------------------------------------------------------\u001b[0m",
      "\u001b[0;31mKeyboardInterrupt\u001b[0m                         Traceback (most recent call last)",
      "\u001b[0;32m<ipython-input-46-c98917f7fd4a>\u001b[0m in \u001b[0;36m<module>\u001b[0;34m()\u001b[0m\n\u001b[1;32m      7\u001b[0m \u001b[0mnet\u001b[0m \u001b[0;34m=\u001b[0m \u001b[0mbuildNetwork\u001b[0m\u001b[0;34m(\u001b[0m \u001b[0minput_size\u001b[0m\u001b[0;34m,\u001b[0m \u001b[0mhidden_size\u001b[0m\u001b[0;34m,\u001b[0m \u001b[0mtarget_size\u001b[0m\u001b[0;34m,\u001b[0m \u001b[0mbias\u001b[0m \u001b[0;34m=\u001b[0m \u001b[0;32mTrue\u001b[0m \u001b[0;34m)\u001b[0m\u001b[0;34m\u001b[0m\u001b[0m\n\u001b[1;32m      8\u001b[0m \u001b[0mtrainer\u001b[0m \u001b[0;34m=\u001b[0m \u001b[0mBackpropTrainer\u001b[0m\u001b[0;34m(\u001b[0m \u001b[0mnet\u001b[0m\u001b[0;34m,\u001b[0m \u001b[0mds\u001b[0m \u001b[0;34m)\u001b[0m\u001b[0;34m\u001b[0m\u001b[0m\n\u001b[0;32m----> 9\u001b[0;31m \u001b[0mtrainer\u001b[0m\u001b[0;34m.\u001b[0m\u001b[0mtrainUntilConvergence\u001b[0m\u001b[0;34m(\u001b[0m \u001b[0mverbose\u001b[0m \u001b[0;34m=\u001b[0m \u001b[0;32mTrue\u001b[0m\u001b[0;34m,\u001b[0m \u001b[0mvalidationProportion\u001b[0m \u001b[0;34m=\u001b[0m \u001b[0;36m0.15\u001b[0m\u001b[0;34m,\u001b[0m \u001b[0mmaxEpochs\u001b[0m \u001b[0;34m=\u001b[0m \u001b[0;36m1000\u001b[0m\u001b[0;34m,\u001b[0m \u001b[0mcontinueEpochs\u001b[0m \u001b[0;34m=\u001b[0m \u001b[0;36m10\u001b[0m \u001b[0;34m)\u001b[0m\u001b[0;34m\u001b[0m\u001b[0m\n\u001b[0m",
      "\u001b[0;32m/Users/michaelweilMichael/anaconda/lib/python3.4/site-packages/PyBrain-0.3.3-py3.4.egg/pybrain/supervised/trainers/backprop.py\u001b[0m in \u001b[0;36mtrainUntilConvergence\u001b[0;34m(self, dataset, maxEpochs, verbose, continueEpochs, validationProportion, trainingData, validationData, convergence_threshold)\u001b[0m\n\u001b[1;32m    224\u001b[0m         \u001b[0mself\u001b[0m\u001b[0;34m.\u001b[0m\u001b[0mvalidationErrors\u001b[0m \u001b[0;34m=\u001b[0m \u001b[0;34m[\u001b[0m\u001b[0mbestverr\u001b[0m\u001b[0;34m]\u001b[0m\u001b[0;34m\u001b[0m\u001b[0m\n\u001b[1;32m    225\u001b[0m         \u001b[0;32mwhile\u001b[0m \u001b[0;32mTrue\u001b[0m\u001b[0;34m:\u001b[0m\u001b[0;34m\u001b[0m\u001b[0m\n\u001b[0;32m--> 226\u001b[0;31m             \u001b[0mtrainingError\u001b[0m \u001b[0;34m=\u001b[0m \u001b[0mself\u001b[0m\u001b[0;34m.\u001b[0m\u001b[0mtrain\u001b[0m\u001b[0;34m(\u001b[0m\u001b[0;34m)\u001b[0m\u001b[0;34m\u001b[0m\u001b[0m\n\u001b[0m\u001b[1;32m    227\u001b[0m             \u001b[0mvalidationError\u001b[0m \u001b[0;34m=\u001b[0m \u001b[0mself\u001b[0m\u001b[0;34m.\u001b[0m\u001b[0mtestOnData\u001b[0m\u001b[0;34m(\u001b[0m\u001b[0mvalidationData\u001b[0m\u001b[0;34m)\u001b[0m\u001b[0;34m\u001b[0m\u001b[0m\n\u001b[1;32m    228\u001b[0m             \u001b[0;32mif\u001b[0m \u001b[0misnan\u001b[0m\u001b[0;34m(\u001b[0m\u001b[0mtrainingError\u001b[0m\u001b[0;34m)\u001b[0m \u001b[0;32mor\u001b[0m \u001b[0misnan\u001b[0m\u001b[0;34m(\u001b[0m\u001b[0mvalidationError\u001b[0m\u001b[0;34m)\u001b[0m\u001b[0;34m:\u001b[0m\u001b[0;34m\u001b[0m\u001b[0m\n",
      "\u001b[0;32m/Users/michaelweilMichael/anaconda/lib/python3.4/site-packages/PyBrain-0.3.3-py3.4.egg/pybrain/supervised/trainers/backprop.py\u001b[0m in \u001b[0;36mtrain\u001b[0;34m(self)\u001b[0m\n\u001b[1;32m     59\u001b[0m         \u001b[0mshuffle\u001b[0m\u001b[0;34m(\u001b[0m\u001b[0mshuffledSequences\u001b[0m\u001b[0;34m)\u001b[0m\u001b[0;34m\u001b[0m\u001b[0m\n\u001b[1;32m     60\u001b[0m         \u001b[0;32mfor\u001b[0m \u001b[0mseq\u001b[0m \u001b[0;32min\u001b[0m \u001b[0mshuffledSequences\u001b[0m\u001b[0;34m:\u001b[0m\u001b[0;34m\u001b[0m\u001b[0m\n\u001b[0;32m---> 61\u001b[0;31m             \u001b[0me\u001b[0m\u001b[0;34m,\u001b[0m \u001b[0mp\u001b[0m \u001b[0;34m=\u001b[0m \u001b[0mself\u001b[0m\u001b[0;34m.\u001b[0m\u001b[0m_calcDerivs\u001b[0m\u001b[0;34m(\u001b[0m\u001b[0mseq\u001b[0m\u001b[0;34m)\u001b[0m\u001b[0;34m\u001b[0m\u001b[0m\n\u001b[0m\u001b[1;32m     62\u001b[0m             \u001b[0merrors\u001b[0m \u001b[0;34m+=\u001b[0m \u001b[0me\u001b[0m\u001b[0;34m\u001b[0m\u001b[0m\n\u001b[1;32m     63\u001b[0m             \u001b[0mponderation\u001b[0m \u001b[0;34m+=\u001b[0m \u001b[0mp\u001b[0m\u001b[0;34m\u001b[0m\u001b[0m\n",
      "\u001b[0;32m/Users/michaelweilMichael/anaconda/lib/python3.4/site-packages/PyBrain-0.3.3-py3.4.egg/pybrain/supervised/trainers/backprop.py\u001b[0m in \u001b[0;36m_calcDerivs\u001b[0;34m(self, seq)\u001b[0m\n\u001b[1;32m    102\u001b[0m                 \u001b[0;31m# know why that is, but somehow the __str__ method of the\u001b[0m\u001b[0;34m\u001b[0m\u001b[0;34m\u001b[0m\u001b[0m\n\u001b[1;32m    103\u001b[0m                 \u001b[0;31m# ndarray class fixes something,\u001b[0m\u001b[0;34m\u001b[0m\u001b[0;34m\u001b[0m\u001b[0m\n\u001b[0;32m--> 104\u001b[0;31m                 \u001b[0mstr\u001b[0m\u001b[0;34m(\u001b[0m\u001b[0mouterr\u001b[0m\u001b[0;34m)\u001b[0m\u001b[0;34m\u001b[0m\u001b[0m\n\u001b[0m\u001b[1;32m    105\u001b[0m                 \u001b[0mself\u001b[0m\u001b[0;34m.\u001b[0m\u001b[0mmodule\u001b[0m\u001b[0;34m.\u001b[0m\u001b[0mbackActivate\u001b[0m\u001b[0;34m(\u001b[0m\u001b[0mouterr\u001b[0m\u001b[0;34m)\u001b[0m\u001b[0;34m\u001b[0m\u001b[0m\n\u001b[1;32m    106\u001b[0m \u001b[0;34m\u001b[0m\u001b[0m\n",
      "\u001b[0;32m/Users/michaelweilMichael/anaconda/lib/python3.4/site-packages/numpy/core/numeric.py\u001b[0m in \u001b[0;36marray_str\u001b[0;34m(a, max_line_width, precision, suppress_small)\u001b[0m\n\u001b[1;32m   1773\u001b[0m \u001b[0;34m\u001b[0m\u001b[0m\n\u001b[1;32m   1774\u001b[0m     \"\"\"\n\u001b[0;32m-> 1775\u001b[0;31m     \u001b[0;32mreturn\u001b[0m \u001b[0marray2string\u001b[0m\u001b[0;34m(\u001b[0m\u001b[0ma\u001b[0m\u001b[0;34m,\u001b[0m \u001b[0mmax_line_width\u001b[0m\u001b[0;34m,\u001b[0m \u001b[0mprecision\u001b[0m\u001b[0;34m,\u001b[0m \u001b[0msuppress_small\u001b[0m\u001b[0;34m,\u001b[0m \u001b[0;34m' '\u001b[0m\u001b[0;34m,\u001b[0m \u001b[0;34m\"\"\u001b[0m\u001b[0;34m,\u001b[0m \u001b[0mstr\u001b[0m\u001b[0;34m)\u001b[0m\u001b[0;34m\u001b[0m\u001b[0m\n\u001b[0m\u001b[1;32m   1776\u001b[0m \u001b[0;34m\u001b[0m\u001b[0m\n\u001b[1;32m   1777\u001b[0m \u001b[0;32mdef\u001b[0m \u001b[0mset_string_function\u001b[0m\u001b[0;34m(\u001b[0m\u001b[0mf\u001b[0m\u001b[0;34m,\u001b[0m \u001b[0mrepr\u001b[0m\u001b[0;34m=\u001b[0m\u001b[0;32mTrue\u001b[0m\u001b[0;34m)\u001b[0m\u001b[0;34m:\u001b[0m\u001b[0;34m\u001b[0m\u001b[0m\n",
      "\u001b[0;32m/Users/michaelweilMichael/anaconda/lib/python3.4/site-packages/numpy/core/arrayprint.py\u001b[0m in \u001b[0;36marray2string\u001b[0;34m(a, max_line_width, precision, suppress_small, separator, prefix, style, formatter)\u001b[0m\n\u001b[1;32m    445\u001b[0m     \u001b[0;32melse\u001b[0m\u001b[0;34m:\u001b[0m\u001b[0;34m\u001b[0m\u001b[0m\n\u001b[1;32m    446\u001b[0m         lst = _array2string(a, max_line_width, precision, suppress_small,\n\u001b[0;32m--> 447\u001b[0;31m                             separator, prefix, formatter=formatter)\n\u001b[0m\u001b[1;32m    448\u001b[0m     \u001b[0;32mreturn\u001b[0m \u001b[0mlst\u001b[0m\u001b[0;34m\u001b[0m\u001b[0m\n\u001b[1;32m    449\u001b[0m \u001b[0;34m\u001b[0m\u001b[0m\n",
      "\u001b[0;32m/Users/michaelweilMichael/anaconda/lib/python3.4/site-packages/numpy/core/arrayprint.py\u001b[0m in \u001b[0;36m_array2string\u001b[0;34m(a, max_line_width, precision, suppress_small, separator, prefix, formatter)\u001b[0m\n\u001b[1;32m    323\u001b[0m     lst = _formatArray(a, format_function, len(a.shape), max_line_width,\n\u001b[1;32m    324\u001b[0m                        \u001b[0mnext_line_prefix\u001b[0m\u001b[0;34m,\u001b[0m \u001b[0mseparator\u001b[0m\u001b[0;34m,\u001b[0m\u001b[0;34m\u001b[0m\u001b[0m\n\u001b[0;32m--> 325\u001b[0;31m                        _summaryEdgeItems, summary_insert)[:-1]\n\u001b[0m\u001b[1;32m    326\u001b[0m     \u001b[0;32mreturn\u001b[0m \u001b[0mlst\u001b[0m\u001b[0;34m\u001b[0m\u001b[0m\n\u001b[1;32m    327\u001b[0m \u001b[0;34m\u001b[0m\u001b[0m\n",
      "\u001b[0;32m/Users/michaelweilMichael/anaconda/lib/python3.4/site-packages/numpy/core/arrayprint.py\u001b[0m in \u001b[0;36m_formatArray\u001b[0;34m(a, format_function, rank, max_line_len, next_line_prefix, separator, edge_items, summary_insert)\u001b[0m\n\u001b[1;32m    494\u001b[0m             \u001b[0ms\u001b[0m\u001b[0;34m,\u001b[0m \u001b[0mline\u001b[0m \u001b[0;34m=\u001b[0m \u001b[0m_extendLine\u001b[0m\u001b[0;34m(\u001b[0m\u001b[0ms\u001b[0m\u001b[0;34m,\u001b[0m \u001b[0mline\u001b[0m\u001b[0;34m,\u001b[0m \u001b[0mword\u001b[0m\u001b[0;34m,\u001b[0m \u001b[0mmax_line_len\u001b[0m\u001b[0;34m,\u001b[0m \u001b[0mnext_line_prefix\u001b[0m\u001b[0;34m)\u001b[0m\u001b[0;34m\u001b[0m\u001b[0m\n\u001b[1;32m    495\u001b[0m \u001b[0;34m\u001b[0m\u001b[0m\n\u001b[0;32m--> 496\u001b[0;31m         \u001b[0mword\u001b[0m \u001b[0;34m=\u001b[0m \u001b[0mformat_function\u001b[0m\u001b[0;34m(\u001b[0m\u001b[0ma\u001b[0m\u001b[0;34m[\u001b[0m\u001b[0;34m-\u001b[0m\u001b[0;36m1\u001b[0m\u001b[0;34m]\u001b[0m\u001b[0;34m)\u001b[0m\u001b[0;34m\u001b[0m\u001b[0m\n\u001b[0m\u001b[1;32m    497\u001b[0m         \u001b[0ms\u001b[0m\u001b[0;34m,\u001b[0m \u001b[0mline\u001b[0m \u001b[0;34m=\u001b[0m \u001b[0m_extendLine\u001b[0m\u001b[0;34m(\u001b[0m\u001b[0ms\u001b[0m\u001b[0;34m,\u001b[0m \u001b[0mline\u001b[0m\u001b[0;34m,\u001b[0m \u001b[0mword\u001b[0m\u001b[0;34m,\u001b[0m \u001b[0mmax_line_len\u001b[0m\u001b[0;34m,\u001b[0m \u001b[0mnext_line_prefix\u001b[0m\u001b[0;34m)\u001b[0m\u001b[0;34m\u001b[0m\u001b[0m\n\u001b[1;32m    498\u001b[0m         \u001b[0ms\u001b[0m \u001b[0;34m+=\u001b[0m \u001b[0mline\u001b[0m \u001b[0;34m+\u001b[0m \u001b[0;34m\"]\\n\"\u001b[0m\u001b[0;34m\u001b[0m\u001b[0m\n",
      "\u001b[0;32m/Users/michaelweilMichael/anaconda/lib/python3.4/site-packages/numpy/core/arrayprint.py\u001b[0m in \u001b[0;36m__call__\u001b[0;34m(self, x, strip_zeros)\u001b[0m\n\u001b[1;32m    595\u001b[0m         \u001b[0;32mfrom\u001b[0m \u001b[0;34m.\u001b[0m \u001b[0;32mimport\u001b[0m \u001b[0mnumeric\u001b[0m \u001b[0;32mas\u001b[0m \u001b[0m_nc\u001b[0m\u001b[0;34m\u001b[0m\u001b[0m\n\u001b[1;32m    596\u001b[0m \u001b[0;34m\u001b[0m\u001b[0m\n\u001b[0;32m--> 597\u001b[0;31m         \u001b[0;32mwith\u001b[0m \u001b[0m_nc\u001b[0m\u001b[0;34m.\u001b[0m\u001b[0merrstate\u001b[0m\u001b[0;34m(\u001b[0m\u001b[0minvalid\u001b[0m\u001b[0;34m=\u001b[0m\u001b[0;34m'ignore'\u001b[0m\u001b[0;34m)\u001b[0m\u001b[0;34m:\u001b[0m\u001b[0;34m\u001b[0m\u001b[0m\n\u001b[0m\u001b[1;32m    598\u001b[0m             \u001b[0;32mif\u001b[0m \u001b[0misnan\u001b[0m\u001b[0;34m(\u001b[0m\u001b[0mx\u001b[0m\u001b[0;34m)\u001b[0m\u001b[0;34m:\u001b[0m\u001b[0;34m\u001b[0m\u001b[0m\n\u001b[1;32m    599\u001b[0m                 \u001b[0;32mif\u001b[0m \u001b[0mself\u001b[0m\u001b[0;34m.\u001b[0m\u001b[0msign\u001b[0m\u001b[0;34m:\u001b[0m\u001b[0;34m\u001b[0m\u001b[0m\n",
      "\u001b[0;32m/Users/michaelweilMichael/anaconda/lib/python3.4/site-packages/numpy/core/numeric.py\u001b[0m in \u001b[0;36m__init__\u001b[0;34m(self, **kwargs)\u001b[0m\n\u001b[1;32m   2864\u001b[0m \u001b[0;34m\u001b[0m\u001b[0m\n\u001b[1;32m   2865\u001b[0m     \u001b[0;32mdef\u001b[0m \u001b[0m__init__\u001b[0m\u001b[0;34m(\u001b[0m\u001b[0mself\u001b[0m\u001b[0;34m,\u001b[0m \u001b[0;34m**\u001b[0m\u001b[0mkwargs\u001b[0m\u001b[0;34m)\u001b[0m\u001b[0;34m:\u001b[0m\u001b[0;34m\u001b[0m\u001b[0m\n\u001b[0;32m-> 2866\u001b[0;31m         \u001b[0mself\u001b[0m\u001b[0;34m.\u001b[0m\u001b[0mcall\u001b[0m \u001b[0;34m=\u001b[0m \u001b[0mkwargs\u001b[0m\u001b[0;34m.\u001b[0m\u001b[0mpop\u001b[0m\u001b[0;34m(\u001b[0m\u001b[0;34m'call'\u001b[0m\u001b[0;34m,\u001b[0m \u001b[0m_Unspecified\u001b[0m\u001b[0;34m)\u001b[0m\u001b[0;34m\u001b[0m\u001b[0m\n\u001b[0m\u001b[1;32m   2867\u001b[0m         \u001b[0mself\u001b[0m\u001b[0;34m.\u001b[0m\u001b[0mkwargs\u001b[0m \u001b[0;34m=\u001b[0m \u001b[0mkwargs\u001b[0m\u001b[0;34m\u001b[0m\u001b[0m\n\u001b[1;32m   2868\u001b[0m \u001b[0;34m\u001b[0m\u001b[0m\n",
      "\u001b[0;31mKeyboardInterrupt\u001b[0m: "
     ]
    }
   ],
   "source": [
    "input_size=Xtrain.shape[1]\n",
    "target_size=1\n",
    "ds = SupervisedDataSet(input_size , target_size )\n",
    "ds.setField( 'input', Xtrain )\n",
    "ds.setField( 'target', Ytrain )\n",
    "hidden_size = 100\n",
    "net = buildNetwork( input_size, hidden_size, target_size, bias = True )\n",
    "trainer = BackpropTrainer( net, ds )\n",
    "trainer.trainUntilConvergence( verbose = True, maxEpochs = 100, continueEpochs = 10 )"
   ]
  },
  {
   "cell_type": "markdown",
   "metadata": {},
   "source": [
    "I decide to use a GPU instance to run the ANN algorithm (Amazon Web Service). PyBrain cannot be run with a GPU. The solution is to use the Theano Library. I took as a template the .py file 'mlp.py' from DeepLearning.net : http://deeplearning.net/tutorial/code/mlp.py. This template is usually used in my Deep Learning class. I modified the file to make it a Neural Network Regression with a linear activation function and an error rate defined by the mean squared error.  "
   ]
  },
  {
   "cell_type": "code",
   "execution_count": 9,
   "metadata": {
    "collapsed": true
   },
   "outputs": [],
   "source": [
    "\n",
    "datas = [ (Xtrain,Ytrain),(Xval,Yval),(Xtest,Ytest) ]"
   ]
  },
  {
   "cell_type": "markdown",
   "metadata": {
    "collapsed": true
   },
   "source": [
    "The codes does a backpropagation and a feed forward algorithm with a learning rate of 0.01, a L_2 penalty of 0.0001 and 100 hidden units. The algorithm is trained and validated during 50 epochs on minibatches of size 20."
   ]
  },
  {
   "cell_type": "code",
   "execution_count": 132,
   "metadata": {
    "collapsed": false
   },
   "outputs": [
    {
     "name": "stdout",
     "output_type": "stream",
     "text": [
      "... building the model\n",
      "... training\n",
      "epoch 1, train error 0.008041, validation error 0.005215\n",
      "epoch 2, train error 0.007605, validation error 0.002853\n",
      "epoch 3, train error 0.007557, validation error 0.002095\n",
      "epoch 4, train error 0.007520, validation error 0.001794\n",
      "epoch 5, train error 0.007485, validation error 0.001646\n",
      "epoch 6, train error 0.007452, validation error 0.001555\n",
      "epoch 7, train error 0.007419, validation error 0.001487\n",
      "epoch 8, train error 0.007386, validation error 0.001429\n",
      "epoch 9, train error 0.007354, validation error 0.001376\n",
      "epoch 10, train error 0.007321, validation error 0.001327\n",
      "epoch 11, train error 0.007289, validation error 0.001280\n",
      "epoch 12, train error 0.007258, validation error 0.001236\n",
      "epoch 13, train error 0.007226, validation error 0.001193\n",
      "epoch 14, train error 0.007194, validation error 0.001152\n",
      "epoch 15, train error 0.007163, validation error 0.001113\n",
      "epoch 16, train error 0.007132, validation error 0.001075\n",
      "epoch 17, train error 0.007101, validation error 0.001039\n",
      "epoch 18, train error 0.007070, validation error 0.001005\n",
      "epoch 19, train error 0.007039, validation error 0.000972\n",
      "epoch 20, train error 0.007008, validation error 0.000940\n",
      "epoch 21, train error 0.006978, validation error 0.000910\n",
      "epoch 22, train error 0.006947, validation error 0.000880\n",
      "epoch 23, train error 0.006917, validation error 0.000852\n",
      "epoch 24, train error 0.006887, validation error 0.000825\n",
      "epoch 25, train error 0.006857, validation error 0.000799\n",
      "epoch 26, train error 0.006828, validation error 0.000774\n",
      "epoch 27, train error 0.006798, validation error 0.000750\n",
      "epoch 28, train error 0.006769, validation error 0.000727\n",
      "epoch 29, train error 0.006739, validation error 0.000705\n",
      "epoch 30, train error 0.006710, validation error 0.000684\n",
      "epoch 31, train error 0.006681, validation error 0.000663\n",
      "epoch 32, train error 0.006652, validation error 0.000644\n",
      "epoch 33, train error 0.006623, validation error 0.000625\n",
      "epoch 34, train error 0.006595, validation error 0.000606\n",
      "epoch 35, train error 0.006566, validation error 0.000589\n",
      "epoch 36, train error 0.006538, validation error 0.000572\n",
      "epoch 37, train error 0.006510, validation error 0.000556\n",
      "epoch 38, train error 0.006482, validation error 0.000540\n",
      "epoch 39, train error 0.006454, validation error 0.000525\n",
      "epoch 40, train error 0.006426, validation error 0.000510\n",
      "epoch 41, train error 0.006398, validation error 0.000496\n",
      "epoch 42, train error 0.006370, validation error 0.000483\n",
      "epoch 43, train error 0.006343, validation error 0.000469\n",
      "epoch 44, train error 0.006316, validation error 0.000457\n",
      "epoch 45, train error 0.006288, validation error 0.000445\n",
      "epoch 46, train error 0.006261, validation error 0.000433\n",
      "epoch 47, train error 0.006234, validation error 0.000422\n",
      "epoch 48, train error 0.006208, validation error 0.000411\n",
      "epoch 49, train error 0.006181, validation error 0.000400\n",
      "epoch 50, train error 0.006154, validation error 0.000390\n",
      "    test error of best model 0.0000003515\n"
     ]
    }
   ],
   "source": [
    "res=test_mlp(datasets=datas,n_epochs=50,n_hidden=100)"
   ]
  },
  {
   "cell_type": "markdown",
   "metadata": {},
   "source": [
    "The mean squared error for the normalized test set is 0.0000003515.\n",
    "\n",
    "After denormalizing the test targets and our prediction, we can compare graphically the results."
   ]
  },
  {
   "cell_type": "code",
   "execution_count": 134,
   "metadata": {
    "collapsed": false
   },
   "outputs": [
    {
     "data": {
      "text/plain": [
       "<matplotlib.legend.Legend at 0x7f537f49b290>"
      ]
     },
     "execution_count": 134,
     "metadata": {},
     "output_type": "execute_result"
    },
    {
     "data": {
      "image/png": "[encoded data removed]",
      "text/plain": [
       "<matplotlib.figure.Figure at 0x7f5384d5e750>"
      ]
     },
     "metadata": {},
     "output_type": "display_data"
    }
   ],
   "source": [
    "y=[res[i]*(dmax-dmin)+dmin for i in range(len(res))]\n",
    "ytest=Ytest*(dmax-dmin)+dmin\n",
    "plt.plot(ytest)\n",
    "plt.plot(y)\n",
    "plt.legend(['Test Prices','Prediction Prices'])"
   ]
  },
  {
   "cell_type": "code",
   "execution_count": null,
   "metadata": {
    "collapsed": true
   },
   "outputs": [],
   "source": []
  }
 ],
 "metadata": {
  "kernelspec": {
   "display_name": "Python 3",
   "language": "python",
   "name": "python3"
  },
  "language_info": {
   "codemirror_mode": {
    "name": "ipython",
    "version": 3
   },
   "file_extension": ".py",
   "mimetype": "text/x-python",
   "name": "python",
   "nbconvert_exporter": "python",
   "pygments_lexer": "ipython3",
   "version": "3.4.4"
  }
 },
 "nbformat": 4,
 "nbformat_minor": 0
}
